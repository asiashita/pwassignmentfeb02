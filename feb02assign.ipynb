{
 "cells": [
  {
   "cell_type": "code",
   "execution_count": 1,
   "id": "b1312c22-753c-4495-858d-e657ec986f5e",
   "metadata": {},
   "outputs": [
    {
     "name": "stdout",
     "output_type": "stream",
     "text": [
      "0\n",
      "1\n",
      "2\n",
      "3\n",
      "4\n",
      "5\n",
      "6\n",
      "7\n",
      "8\n",
      "9\n",
      "10\n"
     ]
    }
   ],
   "source": [
    "#Q1. Explain with an example each when to use a for loop and a while loop.\n",
    "\n",
    "#for loop:A for loop is a control flow statement.The keyword used is \"for\" and is used when the number of iterations is already known.\n",
    "for i in range(11):\n",
    "    print(i)"
   ]
  },
  {
   "cell_type": "code",
   "execution_count": 2,
   "id": "96d2eb84-3e1d-4aa7-bd70-403f5c299756",
   "metadata": {},
   "outputs": [
    {
     "name": "stdout",
     "output_type": "stream",
     "text": [
      "1\n",
      "2\n",
      "3\n",
      "4\n",
      "5\n"
     ]
    }
   ],
   "source": [
    "#A loop that executes the statement for the given true condition.The keyword used to represent this loop is \"while\". A \"while\" loop is used when the number of iterations is unknown. The statement repeats itself till the boolean value becomes false.\n",
    "x=1\n",
    "while x<=5:\n",
    "    print(x)\n",
    "    x+=1"
   ]
  },
  {
   "cell_type": "code",
   "execution_count": 3,
   "id": "7e05e488-f1fb-438e-be3b-70e69c0d5d37",
   "metadata": {},
   "outputs": [
    {
     "name": "stdout",
     "output_type": "stream",
     "text": [
      "sum= 55\n",
      "prod= 3628800\n"
     ]
    }
   ],
   "source": [
    "#Q2. Write a python program to print the sum and product of the first 10 natural numbers using for and while loop.\n",
    "sum=0\n",
    "fact=1\n",
    "for i in range(1,11):\n",
    "    sum=sum+i\n",
    "    fact=fact*i\n",
    "    i+=1\n",
    "print(\"sum=\",sum)\n",
    "print(\"prod=\",fact)\n",
    "    "
   ]
  },
  {
   "cell_type": "code",
   "execution_count": 4,
   "id": "c4d2f3f3-75f6-408b-afd3-fb20dda32a15",
   "metadata": {},
   "outputs": [
    {
     "name": "stdout",
     "output_type": "stream",
     "text": [
      "sum= 55\n",
      "prod= 3628800\n"
     ]
    }
   ],
   "source": [
    "#with while loop\n",
    "i=1\n",
    "sum=0\n",
    "fact=1\n",
    "while i<=10:\n",
    "    sum=sum+i\n",
    "    fact=fact*i\n",
    "    i+=1\n",
    "print(\"sum=\",sum)\n",
    "print(\"prod=\",fact)"
   ]
  },
  {
   "cell_type": "code",
   "execution_count": 5,
   "id": "b21edc6d-c02e-4a82-b68f-f3fdb14dc731",
   "metadata": {},
   "outputs": [],
   "source": [
    "#Q3. Create a python program to compute the electricity bill for a household.The per-unit charges in rupees are as follows: For the first 100 units, the user will be charged Rs. 4.5 perunit, for the next 100 units, the user will be charged Rs. 6 per unit, and for the next 100 units, the user willbe charged Rs. 10 per unit, After 300 units and above the user will be charged Rs. 20 per unit.You are required to take the units of electricity consumed in a month from the user as input."
   ]
  },
  {
   "cell_type": "code",
   "execution_count": 6,
   "id": "f49d8e7d-98a5-4696-bb62-51dc3de4ac58",
   "metadata": {},
   "outputs": [
    {
     "name": "stdin",
     "output_type": "stream",
     "text": [
      "units of electricity consumed in a month 310\n"
     ]
    },
    {
     "name": "stdout",
     "output_type": "stream",
     "text": [
      "total electricity bill of rs 2250\n"
     ]
    }
   ],
   "source": [
    "unit=int(input(\"units of electricity consumed in a month\"))\n",
    "amt=total=0\n",
    "if unit<=100:\n",
    "    amt=unit*4.5\n",
    "elif unit<=200:\n",
    "    amt=450+(unit-100)*6\n",
    "elif unit<=300:\n",
    "    amt=1050+(unit-200)*10\n",
    "else:\n",
    "    amt=2050+(unit-300)*20\n",
    "total=amt\n",
    "print(\"total electricity bill of rs\",total)"
   ]
  },
  {
   "cell_type": "code",
   "execution_count": 9,
   "id": "6db80400-294c-4913-bcbd-4937f528f8a3",
   "metadata": {},
   "outputs": [
    {
     "name": "stdout",
     "output_type": "stream",
     "text": [
      "[1, False, 8, False, 27, False, 64, True, 125, True, 216, False, 343, False, 512, True, 729, False, 1000, True, 1331, False, 1728, True, 2197, False, 2744, False, 3375, True, 4096, True, 4913, False, 5832, False, 6859, False, 8000, True, 9261, False, 10648, False, 12167, False, 13824, True, 15625, True, 17576, False, 19683, False, 21952, True, 24389, False, 27000, True, 29791, False, 32768, True, 35937, False, 39304, False, 42875, True, 46656, True, 50653, False, 54872, False, 59319, False, 64000, True, 68921, False, 74088, False, 79507, False, 85184, True, 91125, True, 97336, False, 103823, False, 110592, True, 117649, False, 125000, True, 132651, False, 140608, True, 148877, False, 157464, False, 166375, True, 175616, True, 185193, False, 195112, False, 205379, False, 216000, True, 226981, False, 238328, False, 250047, False, 262144, True, 274625, True, 287496, False, 300763, False, 314432, True, 328509, False, 343000, True, 357911, False, 373248, True, 389017, False, 405224, False, 421875, True, 438976, True, 456533, False, 474552, False, 493039, False, 512000, True, 531441, False, 551368, False, 571787, False, 592704, True, 614125, True, 636056, False, 658503, False, 681472, True, 704969, False, 729000, True, 753571, False, 778688, True, 804357, False, 830584, False, 857375, True, 884736, True, 912673, False, 941192, False, 970299, False, 1000000, True]\n"
     ]
    }
   ],
   "source": [
    "#Q4. Create a list of numbers from 1 to 100. Use for loop and while loop to calculate the cube of each number and if the cube of that number is divisible by 4 or 5 then append that number in a list and print that list.\n",
    "l=list(range(1,101))\n",
    "res=[]\n",
    "for i in l:\n",
    "    res.append(i*i*i)\n",
    "    res.append(i%4==0 or i%5==0)\n",
    "print(res)\n",
    "    "
   ]
  },
  {
   "cell_type": "code",
   "execution_count": 10,
   "id": "80ebb283-dfea-4517-92e9-55f0f6b797d9",
   "metadata": {},
   "outputs": [
    {
     "name": "stdout",
     "output_type": "stream",
     "text": [
      "the no. of vowels are: 12\n"
     ]
    }
   ],
   "source": [
    "#Q5. Write a program to filter count vowels in the below-given string. string = \"I want to become a data scientist\"\n",
    "\n",
    "string=\"I want to become a data scientist\"\n",
    "count=0\n",
    "for i in string:\n",
    "    if(i==\"a\" or i==\"e\"or i==\"i\"or i==\"o\"or i==\"u\"or i==\"A\"or i==\"E\"or i==\"I\"or i==\"O\"or i==\"U\"):\n",
    "        count+=1\n",
    "print(\"the no. of vowels are:\",count)"
   ]
  },
  {
   "cell_type": "code",
   "execution_count": null,
   "id": "359b2c08-204a-4899-962a-78796a20401e",
   "metadata": {},
   "outputs": [],
   "source": []
  }
 ],
 "metadata": {
  "kernelspec": {
   "display_name": "Python 3 (ipykernel)",
   "language": "python",
   "name": "python3"
  },
  "language_info": {
   "codemirror_mode": {
    "name": "ipython",
    "version": 3
   },
   "file_extension": ".py",
   "mimetype": "text/x-python",
   "name": "python",
   "nbconvert_exporter": "python",
   "pygments_lexer": "ipython3",
   "version": "3.10.8"
  }
 },
 "nbformat": 4,
 "nbformat_minor": 5
}
